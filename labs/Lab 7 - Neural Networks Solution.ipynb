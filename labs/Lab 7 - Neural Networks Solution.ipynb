{
 "cells": [
  {
   "cell_type": "markdown",
   "metadata": {
    "id": "TL5y5fY9Jy_x"
   },
   "source": [
    "# Lab 7: Neural networks \n",
    "\n",
    "In this lab we will build dense neural networks on the MNIST dataset.\n",
    "\n",
    "Make sure you read the tutorial for this lab first."
   ]
  },
  {
   "cell_type": "markdown",
   "metadata": {},
   "source": [
    "## Load the data and create train-test splits"
   ]
  },
  {
   "cell_type": "code",
   "execution_count": 28,
   "metadata": {},
   "outputs": [
    {
     "name": "stdout",
     "output_type": "stream",
     "text": [
      "Using Keras 2.3.0-tf\n"
     ]
    }
   ],
   "source": [
    "# Global imports and settings\n",
    "from preamble import *\n",
    "import tensorflow.keras as keras\n",
    "print(\"Using Keras\",keras.__version__)\n",
    "%matplotlib inline"
   ]
  },
  {
   "cell_type": "code",
   "execution_count": 29,
   "metadata": {},
   "outputs": [
    {
     "data": {
      "application/pdf": "[encoded data removed]",
      "image/png": "[encoded data removed]",
      "text/plain": [
       "<Figure size 720x360 with 5 Axes>"
      ]
     },
     "metadata": {},
     "output_type": "display_data"
    }
   ],
   "source": [
    "# Download MNIST data. Takes a while the first time.\n",
    "mnist = oml.datasets.get_dataset(554)\n",
    "X, y, _, _ = mnist.get_data(target=mnist.default_target_attribute, dataset_format='array');\n",
    "X = X.reshape(70000, 28, 28)\n",
    "\n",
    "# Take some random examples\n",
    "from random import randint\n",
    "fig, axes = plt.subplots(1, 5,  figsize=(10, 5))\n",
    "for i in range(5):\n",
    "    n = randint(0,70000)\n",
    "    axes[i].imshow(X[n], cmap=plt.cm.gray_r)\n",
    "    axes[i].set_xticks([])\n",
    "    axes[i].set_yticks([])\n",
    "    axes[i].set_xlabel(\"{}\".format(y[n]))\n",
    "plt.show();"
   ]
  },
  {
   "cell_type": "code",
   "execution_count": 30,
   "metadata": {
    "id": "JZlvdpyYKx7V"
   },
   "outputs": [],
   "source": [
    "# For MNIST, there exists a predefined stratified train-test split of 60000-10000. We therefore don't shuffle or stratify here.\n",
    "from sklearn.model_selection import train_test_split\n",
    "X_train, X_test, y_train, y_test = train_test_split(X, y, train_size=60000, random_state=0)"
   ]
  },
  {
   "cell_type": "markdown",
   "metadata": {
    "id": "8ldP-5z1B2vL"
   },
   "source": [
    "## Exercise 1: Preprocessing\n",
    "* Normalize the data: map each feature value from its current representation (an integer between 0 and 255) to a floating-point value between 0 and 1.0. \n",
    "* Store the floating-point values in `x_train_normalized` and `x_test_normalized`.\n",
    "* Map the class label to a on-hot-encoded value. Store in `y_train_encoded` and `y_test_encoded`."
   ]
  },
  {
   "cell_type": "code",
   "execution_count": 31,
   "metadata": {
    "cellView": "form",
    "id": "g8HC-TDgB1D1"
   },
   "outputs": [],
   "source": [
    "# Solution\n",
    "x_train_normalized = X_train / 255.0\n",
    "x_test_normalized = X_test / 255.0\n",
    "\n",
    "from tensorflow.keras.utils import to_categorical\n",
    "y_train_encoded = to_categorical(y_train)\n",
    "y_test_encoded = to_categorical(y_test)"
   ]
  },
  {
   "cell_type": "markdown",
   "metadata": {
    "id": "3014ezH3C7jT"
   },
   "source": [
    "## Exercise 2: Create a deep neural net model\n",
    "\n",
    "Implement a `create_model` function which defines the topography of the deep neural net, specifying the following:\n",
    "\n",
    "* The number of layers in the deep neural net: Use 2 dense layers for now.\n",
    "* The number of nodes in each layer: these are parameters of your function.\n",
    "* Any regularization layers. Add at least one dropout layer.\n",
    "* The optimizer and learning rate. Make the learning rate a parameter of your function as well.\n",
    "\n",
    "Consider:\n",
    "* What should be the shape of the input layer?\n",
    "* Which activation function you will need for the last layer, since this is a 10-class classification problem?"
   ]
  },
  {
   "cell_type": "code",
   "execution_count": 54,
   "metadata": {},
   "outputs": [],
   "source": [
    "### Create and compile a 'deep' neural net\n",
    "def create_model(layer_1_units=32, layer_2_units=10, learning_rate=0.001, dropout_rate=0.3):\n",
    "    pass"
   ]
  },
  {
   "cell_type": "code",
   "execution_count": 55,
   "metadata": {
    "cellView": "both",
    "id": "pedD5GhlDC-y"
   },
   "outputs": [],
   "source": [
    "# Solution\n",
    "def create_model(layer_1_units=32, layer_2_units=10, learning_rate=0.001, dropout_rate=0.3):\n",
    "\n",
    "    model = keras.models.Sequential()\n",
    "\n",
    "    # The features are stored in a two-dimensional 28X28 array. \n",
    "    # Flatten that two-dimensional array into a a one-dimensional \n",
    "    # 784-element array.\n",
    "    model.add(keras.layers.Flatten(input_shape=(28, 28)))\n",
    "\n",
    "    # Define the first hidden layer.   \n",
    "    model.add(keras.layers.Dense(units=32, activation='relu'))\n",
    "\n",
    "    # Define a dropout regularization layer. \n",
    "    model.add(keras.layers.Dropout(rate=dropout_rate))\n",
    "\n",
    "    # Define the output layer. The units parameter is set to 10 because\n",
    "    # the model must choose among 10 possible output values (representing\n",
    "    # the digits from 0 to 9, inclusive).\n",
    "    model.add(keras.layers.Dense(units=10, activation='softmax'))     \n",
    "\n",
    "    # Construct the layers into a model that TensorFlow can execute.  \n",
    "    # Notice that the loss function for multi-class classification\n",
    "    # is different than the loss function for binary classification.\n",
    "    # Using Adam here. RMSProp would also be fine\n",
    "    model.compile(optimizer=keras.optimizers.Adam(lr=learning_rate),\n",
    "                  loss=\"categorical_crossentropy\", metrics=['accuracy'])\n",
    "\n",
    "    return model       "
   ]
  },
  {
   "cell_type": "markdown",
   "metadata": {},
   "source": [
    "## Exercise 3: Create a training function\n",
    "Implement a `train_model` function which trains and evaluates a given model.\n",
    "It should do a train-validation split and report the train and validation loss and accuracy, and return the training history."
   ]
  },
  {
   "cell_type": "code",
   "execution_count": 40,
   "metadata": {},
   "outputs": [],
   "source": [
    "def train_model(model, X, y, validation_split=0.1, epochs=10, batch_size=None):\n",
    "    \"\"\"\n",
    "    model: the model to train\n",
    "    X, y: the training data and labels\n",
    "    validation_split: the percentage of data set aside for the validation set\n",
    "    epochs: the number of epochs to train for\n",
    "    batch_size: the batch size for minibatch SGD\n",
    "    \"\"\"\n",
    "    pass"
   ]
  },
  {
   "cell_type": "code",
   "execution_count": 64,
   "metadata": {},
   "outputs": [],
   "source": [
    "# Solution\n",
    "def train_model(model, X, y, validation_split=0.1, epochs=10, batch_size=None):\n",
    "    \"\"\"\n",
    "    model: the model to train\n",
    "    X, y: the training data and labels\n",
    "    validation_split: the percentage of data set aside for the validation set\n",
    "    epochs: the number of epochs to train for\n",
    "    batch_size: the batch size for minibatch SGD\n",
    "    \"\"\"\n",
    "    X_train, x_val, y_train, y_val = train_test_split(X, y, test_size=validation_split, shuffle=True, stratify=y, random_state=0)\n",
    "    \n",
    "    history = model.fit(x=X_train, y=y_train, batch_size=batch_size,\n",
    "                        epochs=epochs, shuffle=True, validation_data=(x_val, y_val))\n",
    "    return history "
   ]
  },
  {
   "cell_type": "markdown",
   "metadata": {
    "id": "D-IXYVfvM4gD"
   },
   "source": [
    "## Exercise 4: Evaluate the model\n",
    "\n",
    "Train the model with a learning rate of 0.003, 50 epochs, batch size 4000, and a validation set that is 20% of the total training data.\n",
    "Use default settings otherwise. Plot the learning curve of the loss, validation loss, accuracy, and validation accuracy. Finally, report the performance on the test set.\n",
    "\n",
    "Feel free to use the plotting function below, or implement the callback from the tutorial to see results in real time."
   ]
  },
  {
   "cell_type": "code",
   "execution_count": 65,
   "metadata": {
    "cellView": "form",
    "id": "QF0BFRXTOeR3"
   },
   "outputs": [],
   "source": [
    "# Helper plotting function\n",
    "#\n",
    "# history: the history object returned by the fit function\n",
    "# list_of_metrics: the metrics to plot\n",
    "def plot_curve(history, list_of_metrics):\n",
    "    \n",
    "    plt.figure()\n",
    "    plt.xlabel(\"Epoch\")\n",
    "    plt.ylabel(\"Value\")\n",
    "\n",
    "    epochs = history.epoch\n",
    "    hist = pd.DataFrame(history.history)\n",
    "\n",
    "    for m in list_of_metrics:\n",
    "        x = hist[m]\n",
    "        plt.plot(epochs[1:], x[1:], label=m, lw=2)\n",
    "\n",
    "    plt.legend()"
   ]
  },
  {
   "cell_type": "code",
   "execution_count": 66,
   "metadata": {
    "cellView": "both",
    "id": "nj3v5EKQFY8s"
   },
   "outputs": [
    {
     "name": "stdout",
     "output_type": "stream",
     "text": [
      "Epoch 1/50\n",
      "12/12 [==============================] - ETA: 0s - loss: 2.3308 - accuracy: 0.08 - ETA: 0s - loss: 2.2481 - accuracy: 0.14 - ETA: 0s - loss: 2.1973 - accuracy: 0.18 - ETA: 0s - loss: 2.1263 - accuracy: 0.24 - ETA: 0s - loss: 2.0585 - accuracy: 0.29 - 0s 32ms/step - loss: 2.0585 - accuracy: 0.2908 - val_loss: 1.7150 - val_accuracy: 0.6083\n",
      "Epoch 2/50\n",
      "12/12 [==============================] - ETA: 0s - loss: 1.7639 - accuracy: 0.47 - ETA: 0s - loss: 1.6888 - accuracy: 0.51 - ETA: 0s - loss: 1.6350 - accuracy: 0.52 - ETA: 0s - loss: 1.5987 - accuracy: 0.54 - 0s 21ms/step - loss: 1.5641 - accuracy: 0.5542 - val_loss: 1.2314 - val_accuracy: 0.7583\n",
      "Epoch 3/50\n",
      "12/12 [==============================] - ETA: 0s - loss: 1.3665 - accuracy: 0.62 - ETA: 0s - loss: 1.3185 - accuracy: 0.63 - ETA: 0s - loss: 1.2753 - accuracy: 0.64 - ETA: 0s - loss: 1.2401 - accuracy: 0.65 - 0s 22ms/step - loss: 1.2205 - accuracy: 0.6614 - val_loss: 0.9205 - val_accuracy: 0.8160\n",
      "Epoch 4/50\n",
      "12/12 [==============================] - ETA: 0s - loss: 1.0730 - accuracy: 0.69 - ETA: 0s - loss: 1.0565 - accuracy: 0.70 - ETA: 0s - loss: 1.0215 - accuracy: 0.71 - 0s 19ms/step - loss: 1.0011 - accuracy: 0.7169 - val_loss: 0.7392 - val_accuracy: 0.8440\n",
      "Epoch 5/50\n",
      "12/12 [==============================] - ETA: 0s - loss: 0.9005 - accuracy: 0.74 - ETA: 0s - loss: 0.9018 - accuracy: 0.74 - ETA: 0s - loss: 0.8860 - accuracy: 0.74 - ETA: 0s - loss: 0.8711 - accuracy: 0.75 - 0s 21ms/step - loss: 0.8640 - accuracy: 0.7532 - val_loss: 0.6302 - val_accuracy: 0.8621\n",
      "Epoch 6/50\n",
      "12/12 [==============================] - ETA: 0s - loss: 0.8126 - accuracy: 0.77 - ETA: 0s - loss: 0.8008 - accuracy: 0.77 - ETA: 0s - loss: 0.7899 - accuracy: 0.77 - ETA: 0s - loss: 0.7780 - accuracy: 0.77 - 0s 19ms/step - loss: 0.7780 - accuracy: 0.7768 - val_loss: 0.5578 - val_accuracy: 0.8740\n",
      "Epoch 7/50\n",
      "12/12 [==============================] - ETA: 0s - loss: 0.7486 - accuracy: 0.77 - ETA: 0s - loss: 0.7337 - accuracy: 0.78 - ETA: 0s - loss: 0.7203 - accuracy: 0.78 - ETA: 0s - loss: 0.7097 - accuracy: 0.79 - 0s 21ms/step - loss: 0.7085 - accuracy: 0.7925 - val_loss: 0.5055 - val_accuracy: 0.8791\n",
      "Epoch 8/50\n",
      "12/12 [==============================] - ETA: 0s - loss: 0.6913 - accuracy: 0.80 - ETA: 0s - loss: 0.6784 - accuracy: 0.80 - ETA: 0s - loss: 0.6712 - accuracy: 0.80 - ETA: 0s - loss: 0.6643 - accuracy: 0.80 - 0s 21ms/step - loss: 0.6578 - accuracy: 0.8094 - val_loss: 0.4663 - val_accuracy: 0.8854\n",
      "Epoch 9/50\n",
      "12/12 [==============================] - ETA: 0s - loss: 0.6246 - accuracy: 0.82 - ETA: 0s - loss: 0.6341 - accuracy: 0.81 - ETA: 0s - loss: 0.6249 - accuracy: 0.81 - ETA: 0s - loss: 0.6183 - accuracy: 0.81 - 0s 21ms/step - loss: 0.6173 - accuracy: 0.8199 - val_loss: 0.4369 - val_accuracy: 0.8901\n",
      "Epoch 10/50\n",
      "12/12 [==============================] - ETA: 0s - loss: 0.6051 - accuracy: 0.82 - ETA: 0s - loss: 0.5930 - accuracy: 0.82 - ETA: 0s - loss: 0.5891 - accuracy: 0.82 - 0s 16ms/step - loss: 0.5870 - accuracy: 0.8307 - val_loss: 0.4141 - val_accuracy: 0.8933\n",
      "Epoch 11/50\n",
      "12/12 [==============================] - ETA: 0s - loss: 0.5640 - accuracy: 0.83 - ETA: 0s - loss: 0.5678 - accuracy: 0.83 - ETA: 0s - loss: 0.5658 - accuracy: 0.83 - ETA: 0s - loss: 0.5623 - accuracy: 0.83 - 0s 19ms/step - loss: 0.5623 - accuracy: 0.8359 - val_loss: 0.3961 - val_accuracy: 0.8957\n",
      "Epoch 12/50\n",
      "12/12 [==============================] - ETA: 0s - loss: 0.5603 - accuracy: 0.83 - ETA: 0s - loss: 0.5475 - accuracy: 0.84 - ETA: 0s - loss: 0.5458 - accuracy: 0.84 - ETA: 0s - loss: 0.5411 - accuracy: 0.84 - 0s 23ms/step - loss: 0.5420 - accuracy: 0.8410 - val_loss: 0.3808 - val_accuracy: 0.8982\n",
      "Epoch 13/50\n",
      "12/12 [==============================] - ETA: 0s - loss: 0.4973 - accuracy: 0.85 - ETA: 0s - loss: 0.5178 - accuracy: 0.85 - ETA: 0s - loss: 0.5219 - accuracy: 0.85 - ETA: 0s - loss: 0.5212 - accuracy: 0.85 - 0s 23ms/step - loss: 0.5219 - accuracy: 0.8496 - val_loss: 0.3662 - val_accuracy: 0.9004\n",
      "Epoch 14/50\n",
      "12/12 [==============================] - ETA: 0s - loss: 0.4920 - accuracy: 0.85 - ETA: 0s - loss: 0.5173 - accuracy: 0.85 - ETA: 0s - loss: 0.5090 - accuracy: 0.85 - ETA: 0s - loss: 0.5080 - accuracy: 0.85 - 0s 21ms/step - loss: 0.5079 - accuracy: 0.8525 - val_loss: 0.3546 - val_accuracy: 0.9016\n",
      "Epoch 15/50\n",
      "12/12 [==============================] - ETA: 0s - loss: 0.4838 - accuracy: 0.85 - ETA: 0s - loss: 0.4945 - accuracy: 0.85 - ETA: 0s - loss: 0.4832 - accuracy: 0.85 - ETA: 0s - loss: 0.4866 - accuracy: 0.85 - 0s 21ms/step - loss: 0.4866 - accuracy: 0.8593 - val_loss: 0.3430 - val_accuracy: 0.9047\n",
      "Epoch 16/50\n",
      "12/12 [==============================] - ETA: 0s - loss: 0.4986 - accuracy: 0.85 - ETA: 0s - loss: 0.4803 - accuracy: 0.86 - ETA: 0s - loss: 0.4774 - accuracy: 0.86 - ETA: 0s - loss: 0.4761 - accuracy: 0.86 - 0s 24ms/step - loss: 0.4765 - accuracy: 0.8614 - val_loss: 0.3328 - val_accuracy: 0.9068\n",
      "Epoch 17/50\n",
      "12/12 [==============================] - ETA: 0s - loss: 0.4911 - accuracy: 0.86 - ETA: 0s - loss: 0.4686 - accuracy: 0.86 - ETA: 0s - loss: 0.4623 - accuracy: 0.86 - ETA: 0s - loss: 0.4641 - accuracy: 0.86 - 0s 21ms/step - loss: 0.4639 - accuracy: 0.8658 - val_loss: 0.3237 - val_accuracy: 0.9099\n",
      "Epoch 18/50\n",
      "12/12 [==============================] - ETA: 0s - loss: 0.4490 - accuracy: 0.86 - ETA: 0s - loss: 0.4498 - accuracy: 0.87 - ETA: 0s - loss: 0.4519 - accuracy: 0.87 - ETA: 0s - loss: 0.4496 - accuracy: 0.87 - 0s 21ms/step - loss: 0.4496 - accuracy: 0.8710 - val_loss: 0.3159 - val_accuracy: 0.9114\n",
      "Epoch 19/50\n",
      "12/12 [==============================] - ETA: 0s - loss: 0.4395 - accuracy: 0.87 - ETA: 0s - loss: 0.4432 - accuracy: 0.87 - ETA: 0s - loss: 0.4416 - accuracy: 0.87 - ETA: 0s - loss: 0.4381 - accuracy: 0.87 - 0s 22ms/step - loss: 0.4401 - accuracy: 0.8725 - val_loss: 0.3094 - val_accuracy: 0.9130\n",
      "Epoch 20/50\n",
      "12/12 [==============================] - ETA: 0s - loss: 0.4549 - accuracy: 0.86 - ETA: 0s - loss: 0.4294 - accuracy: 0.87 - ETA: 0s - loss: 0.4306 - accuracy: 0.87 - ETA: 0s - loss: 0.4309 - accuracy: 0.87 - 0s 22ms/step - loss: 0.4294 - accuracy: 0.8753 - val_loss: 0.3038 - val_accuracy: 0.9128\n",
      "Epoch 21/50\n",
      "12/12 [==============================] - ETA: 0s - loss: 0.4008 - accuracy: 0.88 - ETA: 0s - loss: 0.4150 - accuracy: 0.88 - ETA: 0s - loss: 0.4210 - accuracy: 0.87 - ETA: 0s - loss: 0.4189 - accuracy: 0.87 - 0s 22ms/step - loss: 0.4194 - accuracy: 0.8780 - val_loss: 0.2971 - val_accuracy: 0.9158\n",
      "Epoch 22/50\n",
      "12/12 [==============================] - ETA: 0s - loss: 0.4144 - accuracy: 0.88 - ETA: 0s - loss: 0.4107 - accuracy: 0.87 - ETA: 0s - loss: 0.4102 - accuracy: 0.87 - ETA: 0s - loss: 0.4140 - accuracy: 0.87 - 0s 22ms/step - loss: 0.4140 - accuracy: 0.8789 - val_loss: 0.2919 - val_accuracy: 0.9160\n",
      "Epoch 23/50\n",
      "12/12 [==============================] - ETA: 0s - loss: 0.4375 - accuracy: 0.87 - ETA: 0s - loss: 0.4080 - accuracy: 0.88 - ETA: 0s - loss: 0.4087 - accuracy: 0.88 - ETA: 0s - loss: 0.4073 - accuracy: 0.88 - 0s 24ms/step - loss: 0.4058 - accuracy: 0.8828 - val_loss: 0.2878 - val_accuracy: 0.9173\n",
      "Epoch 24/50\n",
      "12/12 [==============================] - ETA: 0s - loss: 0.4168 - accuracy: 0.88 - ETA: 0s - loss: 0.4039 - accuracy: 0.88 - ETA: 0s - loss: 0.4019 - accuracy: 0.88 - ETA: 0s - loss: 0.4009 - accuracy: 0.88 - 0s 26ms/step - loss: 0.3985 - accuracy: 0.8831 - val_loss: 0.2817 - val_accuracy: 0.9190\n",
      "Epoch 25/50\n",
      "12/12 [==============================] - ETA: 0s - loss: 0.4034 - accuracy: 0.88 - ETA: 0s - loss: 0.3997 - accuracy: 0.88 - ETA: 0s - loss: 0.3980 - accuracy: 0.88 - ETA: 0s - loss: 0.3955 - accuracy: 0.88 - 0s 22ms/step - loss: 0.3963 - accuracy: 0.8845 - val_loss: 0.2780 - val_accuracy: 0.9196\n",
      "Epoch 26/50\n",
      "12/12 [==============================] - ETA: 0s - loss: 0.3981 - accuracy: 0.87 - ETA: 0s - loss: 0.3914 - accuracy: 0.88 - ETA: 0s - loss: 0.3849 - accuracy: 0.88 - ETA: 0s - loss: 0.3903 - accuracy: 0.88 - ETA: 0s - loss: 0.3874 - accuracy: 0.88 - 0s 28ms/step - loss: 0.3874 - accuracy: 0.8872 - val_loss: 0.2737 - val_accuracy: 0.9208\n",
      "Epoch 27/50\n",
      "12/12 [==============================] - ETA: 0s - loss: 0.3565 - accuracy: 0.89 - ETA: 0s - loss: 0.3785 - accuracy: 0.88 - ETA: 0s - loss: 0.3835 - accuracy: 0.88 - ETA: 0s - loss: 0.3825 - accuracy: 0.88 - 0s 22ms/step - loss: 0.3825 - accuracy: 0.8887 - val_loss: 0.2704 - val_accuracy: 0.9218\n",
      "Epoch 28/50\n",
      "12/12 [==============================] - ETA: 0s - loss: 0.3788 - accuracy: 0.88 - ETA: 0s - loss: 0.3813 - accuracy: 0.88 - ETA: 0s - loss: 0.3798 - accuracy: 0.88 - ETA: 0s - loss: 0.3786 - accuracy: 0.89 - 0s 21ms/step - loss: 0.3788 - accuracy: 0.8906 - val_loss: 0.2673 - val_accuracy: 0.9227\n",
      "Epoch 29/50\n",
      "12/12 [==============================] - ETA: 0s - loss: 0.3786 - accuracy: 0.88 - ETA: 0s - loss: 0.3774 - accuracy: 0.89 - ETA: 0s - loss: 0.3730 - accuracy: 0.89 - ETA: 0s - loss: 0.3720 - accuracy: 0.89 - 0s 23ms/step - loss: 0.3716 - accuracy: 0.8928 - val_loss: 0.2637 - val_accuracy: 0.9233\n",
      "Epoch 30/50\n",
      "12/12 [==============================] - ETA: 0s - loss: 0.3804 - accuracy: 0.88 - ETA: 0s - loss: 0.3738 - accuracy: 0.89 - ETA: 0s - loss: 0.3689 - accuracy: 0.89 - ETA: 0s - loss: 0.3680 - accuracy: 0.89 - 0s 23ms/step - loss: 0.3695 - accuracy: 0.8919 - val_loss: 0.2605 - val_accuracy: 0.9245\n",
      "Epoch 31/50\n",
      "12/12 [==============================] - ETA: 0s - loss: 0.3553 - accuracy: 0.90 - ETA: 0s - loss: 0.3679 - accuracy: 0.89 - ETA: 0s - loss: 0.3675 - accuracy: 0.89 - 0s 17ms/step - loss: 0.3635 - accuracy: 0.8943 - val_loss: 0.2566 - val_accuracy: 0.9257\n",
      "Epoch 32/50\n",
      "12/12 [==============================] - ETA: 0s - loss: 0.3762 - accuracy: 0.89 - ETA: 0s - loss: 0.3610 - accuracy: 0.89 - ETA: 0s - loss: 0.3595 - accuracy: 0.89 - 0s 19ms/step - loss: 0.3604 - accuracy: 0.8942 - val_loss: 0.2540 - val_accuracy: 0.9255\n",
      "Epoch 33/50\n",
      "12/12 [==============================] - ETA: 0s - loss: 0.3261 - accuracy: 0.90 - ETA: 0s - loss: 0.3447 - accuracy: 0.89 - ETA: 0s - loss: 0.3513 - accuracy: 0.89 - ETA: 0s - loss: 0.3525 - accuracy: 0.89 - 0s 23ms/step - loss: 0.3553 - accuracy: 0.8953 - val_loss: 0.2515 - val_accuracy: 0.9266\n",
      "Epoch 34/50\n",
      "12/12 [==============================] - ETA: 0s - loss: 0.3379 - accuracy: 0.89 - ETA: 0s - loss: 0.3465 - accuracy: 0.89 - ETA: 0s - loss: 0.3524 - accuracy: 0.89 - ETA: 0s - loss: 0.3515 - accuracy: 0.89 - 0s 22ms/step - loss: 0.3515 - accuracy: 0.8983 - val_loss: 0.2497 - val_accuracy: 0.9272\n",
      "Epoch 35/50\n",
      "12/12 [==============================] - ETA: 0s - loss: 0.3394 - accuracy: 0.90 - ETA: 0s - loss: 0.3479 - accuracy: 0.89 - ETA: 0s - loss: 0.3419 - accuracy: 0.89 - ETA: 0s - loss: 0.3438 - accuracy: 0.89 - 0s 22ms/step - loss: 0.3438 - accuracy: 0.8994 - val_loss: 0.2460 - val_accuracy: 0.9275\n",
      "Epoch 36/50\n",
      "12/12 [==============================] - ETA: 0s - loss: 0.3421 - accuracy: 0.89 - ETA: 0s - loss: 0.3432 - accuracy: 0.89 - ETA: 0s - loss: 0.3452 - accuracy: 0.89 - ETA: 0s - loss: 0.3492 - accuracy: 0.89 - 0s 24ms/step - loss: 0.3481 - accuracy: 0.8977 - val_loss: 0.2443 - val_accuracy: 0.9288\n",
      "Epoch 37/50\n",
      "12/12 [==============================] - ETA: 0s - loss: 0.3305 - accuracy: 0.89 - ETA: 0s - loss: 0.3392 - accuracy: 0.90 - ETA: 0s - loss: 0.3442 - accuracy: 0.90 - ETA: 0s - loss: 0.3408 - accuracy: 0.90 - 0s 24ms/step - loss: 0.3422 - accuracy: 0.9010 - val_loss: 0.2428 - val_accuracy: 0.9290\n",
      "Epoch 38/50\n",
      "12/12 [==============================] - ETA: 0s - loss: 0.3226 - accuracy: 0.90 - ETA: 0s - loss: 0.3322 - accuracy: 0.90 - ETA: 0s - loss: 0.3386 - accuracy: 0.90 - ETA: 0s - loss: 0.3384 - accuracy: 0.90 - 0s 23ms/step - loss: 0.3374 - accuracy: 0.9022 - val_loss: 0.2403 - val_accuracy: 0.9293\n",
      "Epoch 39/50\n",
      "12/12 [==============================] - ETA: 0s - loss: 0.3420 - accuracy: 0.89 - ETA: 0s - loss: 0.3343 - accuracy: 0.90 - ETA: 0s - loss: 0.3319 - accuracy: 0.90 - 0s 18ms/step - loss: 0.3330 - accuracy: 0.9026 - val_loss: 0.2370 - val_accuracy: 0.9305\n",
      "Epoch 40/50\n",
      "12/12 [==============================] - ETA: 0s - loss: 0.3336 - accuracy: 0.90 - ETA: 0s - loss: 0.3257 - accuracy: 0.90 - ETA: 0s - loss: 0.3343 - accuracy: 0.90 - ETA: 0s - loss: 0.3328 - accuracy: 0.90 - 0s 23ms/step - loss: 0.3317 - accuracy: 0.9023 - val_loss: 0.2354 - val_accuracy: 0.9301\n",
      "Epoch 41/50\n",
      "12/12 [==============================] - ETA: 0s - loss: 0.3597 - accuracy: 0.89 - ETA: 0s - loss: 0.3222 - accuracy: 0.90 - ETA: 0s - loss: 0.3271 - accuracy: 0.90 - ETA: 0s - loss: 0.3281 - accuracy: 0.90 - ETA: 0s - loss: 0.3287 - accuracy: 0.90 - 0s 29ms/step - loss: 0.3300 - accuracy: 0.9041 - val_loss: 0.2337 - val_accuracy: 0.9314\n",
      "Epoch 42/50\n",
      "12/12 [==============================] - ETA: 0s - loss: 0.3358 - accuracy: 0.89 - ETA: 0s - loss: 0.3334 - accuracy: 0.90 - ETA: 0s - loss: 0.3354 - accuracy: 0.90 - ETA: 0s - loss: 0.3380 - accuracy: 0.90 - ETA: 0s - loss: 0.3302 - accuracy: 0.90 - 0s 26ms/step - loss: 0.3302 - accuracy: 0.9032 - val_loss: 0.2326 - val_accuracy: 0.9315\n",
      "Epoch 43/50\n",
      "12/12 [==============================] - ETA: 0s - loss: 0.3310 - accuracy: 0.90 - ETA: 0s - loss: 0.3234 - accuracy: 0.90 - ETA: 0s - loss: 0.3259 - accuracy: 0.90 - ETA: 0s - loss: 0.3240 - accuracy: 0.90 - 0s 22ms/step - loss: 0.3244 - accuracy: 0.9060 - val_loss: 0.2295 - val_accuracy: 0.9327\n",
      "Epoch 44/50\n",
      "12/12 [==============================] - ETA: 0s - loss: 0.3131 - accuracy: 0.90 - ETA: 0s - loss: 0.3173 - accuracy: 0.90 - ETA: 0s - loss: 0.3214 - accuracy: 0.90 - ETA: 0s - loss: 0.3207 - accuracy: 0.90 - 0s 23ms/step - loss: 0.3214 - accuracy: 0.9046 - val_loss: 0.2284 - val_accuracy: 0.9321\n",
      "Epoch 45/50\n",
      "12/12 [==============================] - ETA: 0s - loss: 0.3147 - accuracy: 0.91 - ETA: 0s - loss: 0.3154 - accuracy: 0.90 - ETA: 0s - loss: 0.3177 - accuracy: 0.90 - ETA: 0s - loss: 0.3180 - accuracy: 0.90 - 0s 21ms/step - loss: 0.3180 - accuracy: 0.9073 - val_loss: 0.2270 - val_accuracy: 0.9331\n",
      "Epoch 46/50\n",
      "12/12 [==============================] - ETA: 0s - loss: 0.3289 - accuracy: 0.90 - ETA: 0s - loss: 0.3171 - accuracy: 0.90 - ETA: 0s - loss: 0.3197 - accuracy: 0.90 - ETA: 0s - loss: 0.3159 - accuracy: 0.90 - 0s 23ms/step - loss: 0.3153 - accuracy: 0.9067 - val_loss: 0.2249 - val_accuracy: 0.9327\n",
      "Epoch 47/50\n",
      "12/12 [==============================] - ETA: 0s - loss: 0.3112 - accuracy: 0.90 - ETA: 0s - loss: 0.3096 - accuracy: 0.90 - ETA: 0s - loss: 0.3120 - accuracy: 0.90 - ETA: 0s - loss: 0.3116 - accuracy: 0.90 - 0s 20ms/step - loss: 0.3116 - accuracy: 0.9076 - val_loss: 0.2232 - val_accuracy: 0.9339\n",
      "Epoch 48/50\n",
      "12/12 [==============================] - ETA: 0s - loss: 0.3095 - accuracy: 0.90 - ETA: 0s - loss: 0.3141 - accuracy: 0.90 - ETA: 0s - loss: 0.3128 - accuracy: 0.90 - ETA: 0s - loss: 0.3125 - accuracy: 0.90 - 0s 20ms/step - loss: 0.3125 - accuracy: 0.9087 - val_loss: 0.2222 - val_accuracy: 0.9347\n",
      "Epoch 49/50\n",
      "12/12 [==============================] - ETA: 0s - loss: 0.2931 - accuracy: 0.91 - ETA: 0s - loss: 0.3016 - accuracy: 0.91 - ETA: 0s - loss: 0.3080 - accuracy: 0.90 - 0s 17ms/step - loss: 0.3110 - accuracy: 0.9084 - val_loss: 0.2201 - val_accuracy: 0.9345\n",
      "Epoch 50/50\n",
      "12/12 [==============================] - ETA: 0s - loss: 0.3146 - accuracy: 0.90 - ETA: 0s - loss: 0.3090 - accuracy: 0.90 - ETA: 0s - loss: 0.3071 - accuracy: 0.91 - ETA: 0s - loss: 0.3060 - accuracy: 0.91 - 0s 22ms/step - loss: 0.3053 - accuracy: 0.9108 - val_loss: 0.2188 - val_accuracy: 0.9349\n",
      "\n",
      " Evaluation on the test set [loss, accuracy]:\n",
      "3/3 [==============================] - ETA: 0s - loss: 0.2226 - accuracy: 0.93 - 0s 6ms/step - loss: 0.2273 - accuracy: 0.9349\n"
     ]
    },
    {
     "data": {
      "text/plain": [
       "[0.22729726135730743, 0.9348999857902527]"
      ]
     },
     "execution_count": 66,
     "metadata": {},
     "output_type": "execute_result"
    },
    {
     "data": {
      "application/pdf": "[encoded data removed]",
      "image/png": "[encoded data removed]",
      "text/plain": [
       "<Figure size 432x288 with 1 Axes>"
      ]
     },
     "metadata": {
      "needs_background": "light"
     },
     "output_type": "display_data"
    }
   ],
   "source": [
    "# Solution\n",
    "# Settings\n",
    "learning_rate = 0.003\n",
    "epochs = 50\n",
    "batch_size = 4000\n",
    "validation_split = 0.2\n",
    "\n",
    "# Create the model the model's topography.\n",
    "model = create_model(learning_rate)\n",
    "\n",
    "# Train the model on the normalized training set.\n",
    "history = train_model(model, x_train_normalized, y_train_encoded, \n",
    "                      validation_split, epochs, batch_size)\n",
    "\n",
    "# Plot a graph of the metric vs. epochs.\n",
    "list_of_metrics = ['accuracy','val_accuracy','loss','val_loss']\n",
    "plot_curve(history, list_of_metrics)\n",
    "\n",
    "# Evaluate against the test set.\n",
    "print(\"\\n Evaluation on the test set [loss, accuracy]:\")\n",
    "model.evaluate(x=x_test_normalized, y=y_test_encoded, batch_size=batch_size)"
   ]
  },
  {
   "cell_type": "markdown",
   "metadata": {
    "id": "Y5IKmk7D49_n"
   },
   "source": [
    "## Exercise 5: Optimize the model\n",
    "\n",
    "Try to optimize the model, either manually or with a tuning method. At least optimize the following:\n",
    "* the number of hidden layers \n",
    "* the number of nodes in each layer\n",
    "* the amount of dropout layers and the dropout rate\n",
    "\n",
    "Try to reach at least 96% accuracy against the test set."
   ]
  },
  {
   "cell_type": "code",
   "execution_count": 94,
   "metadata": {
    "cellView": "form",
    "id": "wYG5qXpP5a9n"
   },
   "outputs": [
    {
     "name": "stdout",
     "output_type": "stream",
     "text": [
      "Epoch 1/70\n",
      "12/12 [==============================] - ETA: 0s - loss: 2.3839 - accuracy: 0.08 - ETA: 0s - loss: 2.1330 - accuracy: 0.27 - ETA: 0s - loss: 1.8558 - accuracy: 0.42 - ETA: 0s - loss: 1.6290 - accuracy: 0.50 - 0s 26ms/step - loss: 1.6290 - accuracy: 0.5065 - val_loss: 0.9128 - val_accuracy: 0.7857\n",
      "Epoch 2/70\n",
      "12/12 [==============================] - ETA: 0s - loss: 1.0144 - accuracy: 0.70 - ETA: 0s - loss: 0.9418 - accuracy: 0.72 - ETA: 0s - loss: 0.9035 - accuracy: 0.73 - ETA: 0s - loss: 0.8541 - accuracy: 0.74 - ETA: 0s - loss: 0.8163 - accuracy: 0.75 - 0s 27ms/step - loss: 0.8163 - accuracy: 0.7566 - val_loss: 0.5357 - val_accuracy: 0.8550\n",
      "Epoch 3/70\n",
      "12/12 [==============================] - ETA: 0s - loss: 0.6535 - accuracy: 0.80 - ETA: 0s - loss: 0.6232 - accuracy: 0.81 - ETA: 0s - loss: 0.6015 - accuracy: 0.82 - ETA: 0s - loss: 0.5934 - accuracy: 0.82 - 0s 20ms/step - loss: 0.5850 - accuracy: 0.8262 - val_loss: 0.4303 - val_accuracy: 0.8798\n",
      "Epoch 4/70\n",
      "12/12 [==============================] - ETA: 0s - loss: 0.5040 - accuracy: 0.85 - ETA: 0s - loss: 0.5111 - accuracy: 0.85 - ETA: 0s - loss: 0.4978 - accuracy: 0.85 - ETA: 0s - loss: 0.4864 - accuracy: 0.85 - 0s 19ms/step - loss: 0.4864 - accuracy: 0.8576 - val_loss: 0.3710 - val_accuracy: 0.8964\n",
      "Epoch 5/70\n",
      "12/12 [==============================] - ETA: 0s - loss: 0.4265 - accuracy: 0.88 - ETA: 0s - loss: 0.4419 - accuracy: 0.86 - ETA: 0s - loss: 0.4341 - accuracy: 0.87 - 0s 16ms/step - loss: 0.4284 - accuracy: 0.8731 - val_loss: 0.3337 - val_accuracy: 0.9066\n",
      "Epoch 6/70\n",
      "12/12 [==============================] - ETA: 0s - loss: 0.4280 - accuracy: 0.87 - ETA: 0s - loss: 0.4017 - accuracy: 0.88 - ETA: 0s - loss: 0.3979 - accuracy: 0.88 - 0s 16ms/step - loss: 0.3924 - accuracy: 0.8854 - val_loss: 0.3088 - val_accuracy: 0.9127\n",
      "Epoch 7/70\n",
      "12/12 [==============================] - ETA: 0s - loss: 0.3754 - accuracy: 0.89 - ETA: 0s - loss: 0.3736 - accuracy: 0.89 - ETA: 0s - loss: 0.3779 - accuracy: 0.89 - ETA: 0s - loss: 0.3706 - accuracy: 0.89 - 0s 22ms/step - loss: 0.3701 - accuracy: 0.8929 - val_loss: 0.2908 - val_accuracy: 0.9177\n",
      "Epoch 8/70\n",
      "12/12 [==============================] - ETA: 0s - loss: 0.3602 - accuracy: 0.89 - ETA: 0s - loss: 0.3517 - accuracy: 0.89 - ETA: 0s - loss: 0.3505 - accuracy: 0.89 - ETA: 0s - loss: 0.3473 - accuracy: 0.89 - 0s 20ms/step - loss: 0.3474 - accuracy: 0.8981 - val_loss: 0.2757 - val_accuracy: 0.9212\n",
      "Epoch 9/70\n",
      "12/12 [==============================] - ETA: 0s - loss: 0.3348 - accuracy: 0.90 - ETA: 0s - loss: 0.3306 - accuracy: 0.90 - ETA: 0s - loss: 0.3323 - accuracy: 0.90 - ETA: 0s - loss: 0.3327 - accuracy: 0.90 - 0s 19ms/step - loss: 0.3327 - accuracy: 0.9033 - val_loss: 0.2627 - val_accuracy: 0.9257\n",
      "Epoch 10/70\n",
      "12/12 [==============================] - ETA: 0s - loss: 0.3058 - accuracy: 0.91 - ETA: 0s - loss: 0.3105 - accuracy: 0.91 - ETA: 0s - loss: 0.3154 - accuracy: 0.90 - 0s 18ms/step - loss: 0.3172 - accuracy: 0.9074 - val_loss: 0.2507 - val_accuracy: 0.9301\n",
      "Epoch 11/70\n",
      "12/12 [==============================] - ETA: 0s - loss: 0.3026 - accuracy: 0.91 - ETA: 0s - loss: 0.3076 - accuracy: 0.91 - ETA: 0s - loss: 0.3038 - accuracy: 0.91 - ETA: 0s - loss: 0.3039 - accuracy: 0.91 - 0s 20ms/step - loss: 0.3039 - accuracy: 0.9117 - val_loss: 0.2425 - val_accuracy: 0.9321\n",
      "Epoch 12/70\n",
      "12/12 [==============================] - ETA: 0s - loss: 0.3149 - accuracy: 0.90 - ETA: 0s - loss: 0.2940 - accuracy: 0.91 - ETA: 0s - loss: 0.2943 - accuracy: 0.91 - ETA: 0s - loss: 0.2932 - accuracy: 0.91 - 0s 20ms/step - loss: 0.2926 - accuracy: 0.9152 - val_loss: 0.2337 - val_accuracy: 0.9346\n",
      "Epoch 13/70\n",
      "12/12 [==============================] - ETA: 0s - loss: 0.2979 - accuracy: 0.91 - ETA: 0s - loss: 0.2890 - accuracy: 0.91 - ETA: 0s - loss: 0.2832 - accuracy: 0.91 - ETA: 0s - loss: 0.2811 - accuracy: 0.92 - 0s 19ms/step - loss: 0.2810 - accuracy: 0.9196 - val_loss: 0.2256 - val_accuracy: 0.9362\n",
      "Epoch 14/70\n",
      "12/12 [==============================] - ETA: 0s - loss: 0.2572 - accuracy: 0.92 - ETA: 0s - loss: 0.2739 - accuracy: 0.92 - ETA: 0s - loss: 0.2736 - accuracy: 0.92 - ETA: 0s - loss: 0.2738 - accuracy: 0.91 - 0s 19ms/step - loss: 0.2718 - accuracy: 0.9201 - val_loss: 0.2184 - val_accuracy: 0.9382\n",
      "Epoch 15/70\n",
      "12/12 [==============================] - ETA: 0s - loss: 0.2753 - accuracy: 0.92 - ETA: 0s - loss: 0.2701 - accuracy: 0.92 - ETA: 0s - loss: 0.2674 - accuracy: 0.92 - ETA: 0s - loss: 0.2662 - accuracy: 0.92 - 0s 19ms/step - loss: 0.2662 - accuracy: 0.9236 - val_loss: 0.2129 - val_accuracy: 0.9391\n",
      "Epoch 16/70\n",
      "12/12 [==============================] - ETA: 0s - loss: 0.2873 - accuracy: 0.92 - ETA: 0s - loss: 0.2559 - accuracy: 0.92 - ETA: 0s - loss: 0.2562 - accuracy: 0.92 - 0s 17ms/step - loss: 0.2560 - accuracy: 0.9255 - val_loss: 0.2062 - val_accuracy: 0.9413\n",
      "Epoch 17/70\n",
      "12/12 [==============================] - ETA: 0s - loss: 0.2473 - accuracy: 0.92 - ETA: 0s - loss: 0.2422 - accuracy: 0.92 - ETA: 0s - loss: 0.2445 - accuracy: 0.92 - ETA: 0s - loss: 0.2478 - accuracy: 0.92 - 0s 19ms/step - loss: 0.2478 - accuracy: 0.9269 - val_loss: 0.2022 - val_accuracy: 0.9427\n",
      "Epoch 18/70\n",
      "12/12 [==============================] - ETA: 0s - loss: 0.2391 - accuracy: 0.92 - ETA: 0s - loss: 0.2426 - accuracy: 0.92 - ETA: 0s - loss: 0.2446 - accuracy: 0.92 - ETA: 0s - loss: 0.2418 - accuracy: 0.92 - 0s 20ms/step - loss: 0.2411 - accuracy: 0.9287 - val_loss: 0.1968 - val_accuracy: 0.9447\n",
      "Epoch 19/70\n",
      "12/12 [==============================] - ETA: 0s - loss: 0.2310 - accuracy: 0.92 - ETA: 0s - loss: 0.2363 - accuracy: 0.92 - ETA: 0s - loss: 0.2390 - accuracy: 0.92 - ETA: 0s - loss: 0.2379 - accuracy: 0.92 - 0s 20ms/step - loss: 0.2384 - accuracy: 0.9287 - val_loss: 0.1931 - val_accuracy: 0.9457\n",
      "Epoch 20/70\n",
      "12/12 [==============================] - ETA: 0s - loss: 0.2263 - accuracy: 0.93 - ETA: 0s - loss: 0.2260 - accuracy: 0.93 - ETA: 0s - loss: 0.2284 - accuracy: 0.93 - ETA: 0s - loss: 0.2298 - accuracy: 0.93 - 0s 20ms/step - loss: 0.2307 - accuracy: 0.9316 - val_loss: 0.1883 - val_accuracy: 0.9462\n",
      "Epoch 21/70\n",
      "12/12 [==============================] - ETA: 0s - loss: 0.2346 - accuracy: 0.93 - ETA: 0s - loss: 0.2316 - accuracy: 0.93 - ETA: 0s - loss: 0.2299 - accuracy: 0.93 - ETA: 0s - loss: 0.2265 - accuracy: 0.93 - 0s 19ms/step - loss: 0.2265 - accuracy: 0.9337 - val_loss: 0.1859 - val_accuracy: 0.9470\n",
      "Epoch 22/70\n",
      "12/12 [==============================] - ETA: 0s - loss: 0.2254 - accuracy: 0.93 - ETA: 0s - loss: 0.2264 - accuracy: 0.93 - ETA: 0s - loss: 0.2225 - accuracy: 0.93 - ETA: 0s - loss: 0.2210 - accuracy: 0.93 - 0s 20ms/step - loss: 0.2210 - accuracy: 0.9343 - val_loss: 0.1821 - val_accuracy: 0.9475\n",
      "Epoch 23/70\n",
      "12/12 [==============================] - ETA: 0s - loss: 0.2181 - accuracy: 0.93 - ETA: 0s - loss: 0.2138 - accuracy: 0.93 - ETA: 0s - loss: 0.2137 - accuracy: 0.93 - 0s 16ms/step - loss: 0.2134 - accuracy: 0.9359 - val_loss: 0.1785 - val_accuracy: 0.9478\n",
      "Epoch 24/70\n",
      "12/12 [==============================] - ETA: 0s - loss: 0.2166 - accuracy: 0.93 - ETA: 0s - loss: 0.2109 - accuracy: 0.93 - ETA: 0s - loss: 0.2110 - accuracy: 0.93 - ETA: 0s - loss: 0.2135 - accuracy: 0.93 - 0s 23ms/step - loss: 0.2139 - accuracy: 0.9351 - val_loss: 0.1764 - val_accuracy: 0.9491\n",
      "Epoch 25/70\n",
      "12/12 [==============================] - ETA: 0s - loss: 0.2184 - accuracy: 0.93 - ETA: 0s - loss: 0.2099 - accuracy: 0.93 - ETA: 0s - loss: 0.2073 - accuracy: 0.93 - ETA: 0s - loss: 0.2080 - accuracy: 0.93 - 0s 22ms/step - loss: 0.2085 - accuracy: 0.9376 - val_loss: 0.1727 - val_accuracy: 0.9498\n",
      "Epoch 26/70\n",
      "12/12 [==============================] - ETA: 0s - loss: 0.1962 - accuracy: 0.94 - ETA: 0s - loss: 0.2017 - accuracy: 0.94 - ETA: 0s - loss: 0.2003 - accuracy: 0.93 - ETA: 0s - loss: 0.2037 - accuracy: 0.93 - 0s 21ms/step - loss: 0.2042 - accuracy: 0.9381 - val_loss: 0.1716 - val_accuracy: 0.9503\n",
      "Epoch 27/70\n",
      "12/12 [==============================] - ETA: 0s - loss: 0.1942 - accuracy: 0.94 - ETA: 0s - loss: 0.1999 - accuracy: 0.93 - ETA: 0s - loss: 0.2016 - accuracy: 0.93 - ETA: 0s - loss: 0.2025 - accuracy: 0.93 - 0s 20ms/step - loss: 0.2015 - accuracy: 0.9398 - val_loss: 0.1686 - val_accuracy: 0.9513\n",
      "Epoch 28/70\n",
      "12/12 [==============================] - ETA: 0s - loss: 0.1993 - accuracy: 0.93 - ETA: 0s - loss: 0.1975 - accuracy: 0.93 - ETA: 0s - loss: 0.1954 - accuracy: 0.94 - ETA: 0s - loss: 0.1946 - accuracy: 0.94 - 0s 21ms/step - loss: 0.1967 - accuracy: 0.9408 - val_loss: 0.1666 - val_accuracy: 0.9514\n",
      "Epoch 29/70\n",
      "12/12 [==============================] - ETA: 0s - loss: 0.1850 - accuracy: 0.94 - ETA: 0s - loss: 0.1924 - accuracy: 0.94 - ETA: 0s - loss: 0.1928 - accuracy: 0.94 - ETA: 0s - loss: 0.1934 - accuracy: 0.94 - 0s 21ms/step - loss: 0.1940 - accuracy: 0.9414 - val_loss: 0.1650 - val_accuracy: 0.9530\n",
      "Epoch 30/70\n",
      "12/12 [==============================] - ETA: 0s - loss: 0.1894 - accuracy: 0.94 - ETA: 0s - loss: 0.1919 - accuracy: 0.94 - ETA: 0s - loss: 0.1906 - accuracy: 0.94 - ETA: 0s - loss: 0.1908 - accuracy: 0.94 - 0s 21ms/step - loss: 0.1908 - accuracy: 0.9436 - val_loss: 0.1618 - val_accuracy: 0.9530\n",
      "Epoch 31/70\n",
      "12/12 [==============================] - ETA: 0s - loss: 0.1794 - accuracy: 0.94 - ETA: 0s - loss: 0.1818 - accuracy: 0.94 - ETA: 0s - loss: 0.1877 - accuracy: 0.94 - ETA: 0s - loss: 0.1890 - accuracy: 0.94 - 0s 22ms/step - loss: 0.1891 - accuracy: 0.9440 - val_loss: 0.1609 - val_accuracy: 0.9531\n",
      "Epoch 32/70\n",
      "12/12 [==============================] - ETA: 0s - loss: 0.1749 - accuracy: 0.94 - ETA: 0s - loss: 0.1832 - accuracy: 0.94 - ETA: 0s - loss: 0.1836 - accuracy: 0.94 - ETA: 0s - loss: 0.1844 - accuracy: 0.94 - 0s 20ms/step - loss: 0.1844 - accuracy: 0.9436 - val_loss: 0.1582 - val_accuracy: 0.9546\n",
      "Epoch 33/70\n",
      "12/12 [==============================] - ETA: 0s - loss: 0.1848 - accuracy: 0.94 - ETA: 0s - loss: 0.1795 - accuracy: 0.94 - ETA: 0s - loss: 0.1801 - accuracy: 0.94 - ETA: 0s - loss: 0.1806 - accuracy: 0.94 - 0s 22ms/step - loss: 0.1795 - accuracy: 0.9456 - val_loss: 0.1572 - val_accuracy: 0.9539\n",
      "Epoch 34/70\n",
      "12/12 [==============================] - ETA: 0s - loss: 0.1636 - accuracy: 0.94 - ETA: 0s - loss: 0.1737 - accuracy: 0.94 - ETA: 0s - loss: 0.1760 - accuracy: 0.94 - ETA: 0s - loss: 0.1794 - accuracy: 0.94 - 0s 20ms/step - loss: 0.1804 - accuracy: 0.9458 - val_loss: 0.1561 - val_accuracy: 0.9546\n",
      "Epoch 35/70\n",
      "12/12 [==============================] - ETA: 0s - loss: 0.1619 - accuracy: 0.95 - ETA: 0s - loss: 0.1771 - accuracy: 0.94 - ETA: 0s - loss: 0.1782 - accuracy: 0.94 - ETA: 0s - loss: 0.1773 - accuracy: 0.94 - 0s 21ms/step - loss: 0.1770 - accuracy: 0.9465 - val_loss: 0.1541 - val_accuracy: 0.9553\n",
      "Epoch 36/70\n",
      "12/12 [==============================] - ETA: 0s - loss: 0.1734 - accuracy: 0.95 - ETA: 0s - loss: 0.1782 - accuracy: 0.94 - ETA: 0s - loss: 0.1785 - accuracy: 0.94 - ETA: 0s - loss: 0.1765 - accuracy: 0.94 - 0s 20ms/step - loss: 0.1766 - accuracy: 0.9464 - val_loss: 0.1534 - val_accuracy: 0.9556\n",
      "Epoch 37/70\n",
      "12/12 [==============================] - ETA: 0s - loss: 0.1585 - accuracy: 0.94 - ETA: 0s - loss: 0.1694 - accuracy: 0.94 - ETA: 0s - loss: 0.1736 - accuracy: 0.94 - ETA: 0s - loss: 0.1741 - accuracy: 0.94 - 0s 19ms/step - loss: 0.1741 - accuracy: 0.9477 - val_loss: 0.1517 - val_accuracy: 0.9564\n",
      "Epoch 38/70\n",
      "12/12 [==============================] - ETA: 0s - loss: 0.1749 - accuracy: 0.94 - ETA: 0s - loss: 0.1729 - accuracy: 0.94 - ETA: 0s - loss: 0.1669 - accuracy: 0.95 - ETA: 0s - loss: 0.1680 - accuracy: 0.95 - 0s 22ms/step - loss: 0.1701 - accuracy: 0.9501 - val_loss: 0.1499 - val_accuracy: 0.9562\n",
      "Epoch 39/70\n",
      "12/12 [==============================] - ETA: 0s - loss: 0.1653 - accuracy: 0.95 - ETA: 0s - loss: 0.1685 - accuracy: 0.94 - ETA: 0s - loss: 0.1690 - accuracy: 0.94 - 0s 17ms/step - loss: 0.1699 - accuracy: 0.9490 - val_loss: 0.1485 - val_accuracy: 0.9572\n",
      "Epoch 40/70\n",
      "12/12 [==============================] - ETA: 0s - loss: 0.1838 - accuracy: 0.94 - ETA: 0s - loss: 0.1675 - accuracy: 0.94 - ETA: 0s - loss: 0.1704 - accuracy: 0.94 - ETA: 0s - loss: 0.1683 - accuracy: 0.94 - 0s 21ms/step - loss: 0.1673 - accuracy: 0.9497 - val_loss: 0.1483 - val_accuracy: 0.9565\n",
      "Epoch 41/70\n",
      "12/12 [==============================] - ETA: 0s - loss: 0.1596 - accuracy: 0.94 - ETA: 0s - loss: 0.1657 - accuracy: 0.94 - ETA: 0s - loss: 0.1641 - accuracy: 0.94 - 0s 17ms/step - loss: 0.1617 - accuracy: 0.9501 - val_loss: 0.1477 - val_accuracy: 0.9574\n",
      "Epoch 42/70\n",
      "12/12 [==============================] - ETA: 0s - loss: 0.1385 - accuracy: 0.95 - ETA: 0s - loss: 0.1569 - accuracy: 0.95 - ETA: 0s - loss: 0.1589 - accuracy: 0.95 - ETA: 0s - loss: 0.1615 - accuracy: 0.95 - 0s 23ms/step - loss: 0.1622 - accuracy: 0.9500 - val_loss: 0.1477 - val_accuracy: 0.9570\n",
      "Epoch 43/70\n",
      "12/12 [==============================] - ETA: 0s - loss: 0.1570 - accuracy: 0.95 - ETA: 0s - loss: 0.1596 - accuracy: 0.95 - ETA: 0s - loss: 0.1623 - accuracy: 0.95 - ETA: 0s - loss: 0.1616 - accuracy: 0.95 - 0s 20ms/step - loss: 0.1606 - accuracy: 0.9521 - val_loss: 0.1462 - val_accuracy: 0.9573\n",
      "Epoch 44/70\n",
      "12/12 [==============================] - ETA: 0s - loss: 0.1581 - accuracy: 0.95 - ETA: 0s - loss: 0.1547 - accuracy: 0.95 - ETA: 0s - loss: 0.1581 - accuracy: 0.95 - 0s 17ms/step - loss: 0.1570 - accuracy: 0.9514 - val_loss: 0.1454 - val_accuracy: 0.9579\n",
      "Epoch 45/70\n",
      "12/12 [==============================] - ETA: 0s - loss: 0.1575 - accuracy: 0.94 - ETA: 0s - loss: 0.1577 - accuracy: 0.95 - ETA: 0s - loss: 0.1565 - accuracy: 0.95 - ETA: 0s - loss: 0.1564 - accuracy: 0.95 - 0s 19ms/step - loss: 0.1564 - accuracy: 0.9517 - val_loss: 0.1448 - val_accuracy: 0.9583\n",
      "Epoch 46/70\n",
      "12/12 [==============================] - ETA: 0s - loss: 0.1597 - accuracy: 0.94 - ETA: 0s - loss: 0.1575 - accuracy: 0.95 - ETA: 0s - loss: 0.1571 - accuracy: 0.95 - ETA: 0s - loss: 0.1569 - accuracy: 0.95 - 0s 20ms/step - loss: 0.1575 - accuracy: 0.9514 - val_loss: 0.1438 - val_accuracy: 0.9578\n",
      "Epoch 47/70\n",
      "12/12 [==============================] - ETA: 0s - loss: 0.1419 - accuracy: 0.95 - ETA: 0s - loss: 0.1561 - accuracy: 0.95 - ETA: 0s - loss: 0.1565 - accuracy: 0.95 - ETA: 0s - loss: 0.1552 - accuracy: 0.95 - 0s 20ms/step - loss: 0.1552 - accuracy: 0.9525 - val_loss: 0.1428 - val_accuracy: 0.9590\n",
      "Epoch 48/70\n",
      "12/12 [==============================] - ETA: 0s - loss: 0.1552 - accuracy: 0.95 - ETA: 0s - loss: 0.1575 - accuracy: 0.95 - ETA: 0s - loss: 0.1542 - accuracy: 0.95 - 0s 15ms/step - loss: 0.1539 - accuracy: 0.9532 - val_loss: 0.1423 - val_accuracy: 0.9582\n",
      "Epoch 49/70\n",
      "12/12 [==============================] - ETA: 0s - loss: 0.1582 - accuracy: 0.95 - ETA: 0s - loss: 0.1477 - accuracy: 0.95 - ETA: 0s - loss: 0.1488 - accuracy: 0.95 - ETA: 0s - loss: 0.1504 - accuracy: 0.95 - 0s 20ms/step - loss: 0.1504 - accuracy: 0.9539 - val_loss: 0.1417 - val_accuracy: 0.9591\n",
      "Epoch 50/70\n",
      "12/12 [==============================] - ETA: 0s - loss: 0.1631 - accuracy: 0.94 - ETA: 0s - loss: 0.1527 - accuracy: 0.95 - ETA: 0s - loss: 0.1504 - accuracy: 0.95 - ETA: 0s - loss: 0.1489 - accuracy: 0.95 - 0s 21ms/step - loss: 0.1490 - accuracy: 0.9538 - val_loss: 0.1405 - val_accuracy: 0.9596\n",
      "Epoch 51/70\n",
      "12/12 [==============================] - ETA: 0s - loss: 0.1512 - accuracy: 0.95 - ETA: 0s - loss: 0.1547 - accuracy: 0.95 - ETA: 0s - loss: 0.1520 - accuracy: 0.95 - ETA: 0s - loss: 0.1500 - accuracy: 0.95 - 0s 19ms/step - loss: 0.1500 - accuracy: 0.9536 - val_loss: 0.1403 - val_accuracy: 0.9592\n",
      "Epoch 52/70\n",
      "12/12 [==============================] - ETA: 0s - loss: 0.1423 - accuracy: 0.95 - ETA: 0s - loss: 0.1460 - accuracy: 0.95 - ETA: 0s - loss: 0.1493 - accuracy: 0.95 - ETA: 0s - loss: 0.1474 - accuracy: 0.95 - 0s 20ms/step - loss: 0.1474 - accuracy: 0.9540 - val_loss: 0.1399 - val_accuracy: 0.9597\n",
      "Epoch 53/70\n",
      "12/12 [==============================] - ETA: 0s - loss: 0.1417 - accuracy: 0.95 - ETA: 0s - loss: 0.1474 - accuracy: 0.95 - ETA: 0s - loss: 0.1482 - accuracy: 0.95 - ETA: 0s - loss: 0.1468 - accuracy: 0.95 - 0s 19ms/step - loss: 0.1468 - accuracy: 0.9552 - val_loss: 0.1388 - val_accuracy: 0.9606\n",
      "Epoch 54/70\n",
      "12/12 [==============================] - ETA: 0s - loss: 0.1418 - accuracy: 0.95 - ETA: 0s - loss: 0.1462 - accuracy: 0.95 - ETA: 0s - loss: 0.1428 - accuracy: 0.95 - ETA: 0s - loss: 0.1437 - accuracy: 0.95 - 0s 21ms/step - loss: 0.1439 - accuracy: 0.9551 - val_loss: 0.1386 - val_accuracy: 0.9593\n",
      "Epoch 55/70\n",
      "12/12 [==============================] - ETA: 0s - loss: 0.1456 - accuracy: 0.95 - ETA: 0s - loss: 0.1432 - accuracy: 0.95 - ETA: 0s - loss: 0.1404 - accuracy: 0.95 - ETA: 0s - loss: 0.1437 - accuracy: 0.95 - 0s 20ms/step - loss: 0.1437 - accuracy: 0.9555 - val_loss: 0.1382 - val_accuracy: 0.9607\n",
      "Epoch 56/70\n",
      "12/12 [==============================] - ETA: 0s - loss: 0.1304 - accuracy: 0.96 - ETA: 0s - loss: 0.1424 - accuracy: 0.95 - ETA: 0s - loss: 0.1428 - accuracy: 0.95 - ETA: 0s - loss: 0.1436 - accuracy: 0.95 - 0s 20ms/step - loss: 0.1436 - accuracy: 0.9561 - val_loss: 0.1381 - val_accuracy: 0.9598\n",
      "Epoch 57/70\n",
      "12/12 [==============================] - ETA: 0s - loss: 0.1598 - accuracy: 0.94 - ETA: 0s - loss: 0.1497 - accuracy: 0.95 - ETA: 0s - loss: 0.1422 - accuracy: 0.95 - ETA: 0s - loss: 0.1408 - accuracy: 0.95 - 0s 19ms/step - loss: 0.1408 - accuracy: 0.9575 - val_loss: 0.1376 - val_accuracy: 0.9600\n",
      "Epoch 58/70\n",
      "12/12 [==============================] - ETA: 0s - loss: 0.1299 - accuracy: 0.95 - ETA: 0s - loss: 0.1358 - accuracy: 0.95 - ETA: 0s - loss: 0.1358 - accuracy: 0.95 - ETA: 0s - loss: 0.1378 - accuracy: 0.95 - 0s 21ms/step - loss: 0.1385 - accuracy: 0.9571 - val_loss: 0.1370 - val_accuracy: 0.9603\n",
      "Epoch 59/70\n",
      "12/12 [==============================] - ETA: 0s - loss: 0.1311 - accuracy: 0.96 - ETA: 0s - loss: 0.1352 - accuracy: 0.95 - ETA: 0s - loss: 0.1410 - accuracy: 0.95 - 0s 16ms/step - loss: 0.1403 - accuracy: 0.9566 - val_loss: 0.1363 - val_accuracy: 0.9610\n",
      "Epoch 60/70\n",
      "12/12 [==============================] - ETA: 0s - loss: 0.1236 - accuracy: 0.95 - ETA: 0s - loss: 0.1394 - accuracy: 0.95 - ETA: 0s - loss: 0.1386 - accuracy: 0.95 - ETA: 0s - loss: 0.1388 - accuracy: 0.95 - ETA: 0s - loss: 0.1381 - accuracy: 0.95 - 0s 24ms/step - loss: 0.1381 - accuracy: 0.9575 - val_loss: 0.1371 - val_accuracy: 0.9611\n",
      "Epoch 61/70\n",
      "12/12 [==============================] - ETA: 0s - loss: 0.1483 - accuracy: 0.95 - ETA: 0s - loss: 0.1407 - accuracy: 0.95 - ETA: 0s - loss: 0.1371 - accuracy: 0.95 - ETA: 0s - loss: 0.1362 - accuracy: 0.95 - 0s 19ms/step - loss: 0.1362 - accuracy: 0.9576 - val_loss: 0.1354 - val_accuracy: 0.9603\n",
      "Epoch 62/70\n",
      "12/12 [==============================] - ETA: 0s - loss: 0.1543 - accuracy: 0.95 - ETA: 0s - loss: 0.1323 - accuracy: 0.95 - ETA: 0s - loss: 0.1345 - accuracy: 0.95 - ETA: 0s - loss: 0.1346 - accuracy: 0.95 - 0s 19ms/step - loss: 0.1346 - accuracy: 0.9578 - val_loss: 0.1366 - val_accuracy: 0.9610\n",
      "Epoch 63/70\n",
      "12/12 [==============================] - ETA: 0s - loss: 0.1494 - accuracy: 0.95 - ETA: 0s - loss: 0.1357 - accuracy: 0.95 - ETA: 0s - loss: 0.1355 - accuracy: 0.95 - ETA: 0s - loss: 0.1347 - accuracy: 0.95 - 0s 20ms/step - loss: 0.1347 - accuracy: 0.9573 - val_loss: 0.1363 - val_accuracy: 0.9598\n",
      "Epoch 64/70\n",
      "12/12 [==============================] - ETA: 0s - loss: 0.1346 - accuracy: 0.95 - ETA: 0s - loss: 0.1311 - accuracy: 0.95 - ETA: 0s - loss: 0.1343 - accuracy: 0.95 - ETA: 0s - loss: 0.1341 - accuracy: 0.95 - 0s 20ms/step - loss: 0.1338 - accuracy: 0.9588 - val_loss: 0.1357 - val_accuracy: 0.9605\n",
      "Epoch 65/70\n",
      "12/12 [==============================] - ETA: 0s - loss: 0.1203 - accuracy: 0.96 - ETA: 0s - loss: 0.1277 - accuracy: 0.96 - ETA: 0s - loss: 0.1291 - accuracy: 0.95 - ETA: 0s - loss: 0.1323 - accuracy: 0.95 - 0s 24ms/step - loss: 0.1343 - accuracy: 0.9576 - val_loss: 0.1353 - val_accuracy: 0.9610\n",
      "Epoch 66/70\n",
      "12/12 [==============================] - ETA: 0s - loss: 0.1307 - accuracy: 0.95 - ETA: 0s - loss: 0.1310 - accuracy: 0.95 - ETA: 0s - loss: 0.1339 - accuracy: 0.95 - ETA: 0s - loss: 0.1330 - accuracy: 0.95 - 0s 20ms/step - loss: 0.1337 - accuracy: 0.9584 - val_loss: 0.1359 - val_accuracy: 0.9609\n",
      "Epoch 67/70\n",
      "12/12 [==============================] - ETA: 0s - loss: 0.1352 - accuracy: 0.95 - ETA: 0s - loss: 0.1284 - accuracy: 0.96 - ETA: 0s - loss: 0.1321 - accuracy: 0.95 - ETA: 0s - loss: 0.1307 - accuracy: 0.95 - 0s 20ms/step - loss: 0.1307 - accuracy: 0.9589 - val_loss: 0.1340 - val_accuracy: 0.9614\n",
      "Epoch 68/70\n",
      "12/12 [==============================] - ETA: 0s - loss: 0.1320 - accuracy: 0.95 - ETA: 0s - loss: 0.1307 - accuracy: 0.95 - ETA: 0s - loss: 0.1335 - accuracy: 0.95 - ETA: 0s - loss: 0.1317 - accuracy: 0.95 - 0s 19ms/step - loss: 0.1317 - accuracy: 0.9584 - val_loss: 0.1337 - val_accuracy: 0.9614\n",
      "Epoch 69/70\n",
      "12/12 [==============================] - ETA: 0s - loss: 0.1344 - accuracy: 0.95 - ETA: 0s - loss: 0.1312 - accuracy: 0.95 - ETA: 0s - loss: 0.1284 - accuracy: 0.96 - ETA: 0s - loss: 0.1279 - accuracy: 0.95 - 0s 20ms/step - loss: 0.1279 - accuracy: 0.9598 - val_loss: 0.1343 - val_accuracy: 0.9614\n",
      "Epoch 70/70\n",
      "12/12 [==============================] - ETA: 0s - loss: 0.1300 - accuracy: 0.95 - ETA: 0s - loss: 0.1222 - accuracy: 0.96 - ETA: 0s - loss: 0.1278 - accuracy: 0.96 - ETA: 0s - loss: 0.1268 - accuracy: 0.95 - 0s 20ms/step - loss: 0.1268 - accuracy: 0.9598 - val_loss: 0.1340 - val_accuracy: 0.9622\n",
      "\n",
      " Evaluation on the test set (accuracy):\n",
      "3/3 [==============================] - ETA: 0s - loss: 0.1434 - accuracy: 0.96 - 0s 5ms/step - loss: 0.1446 - accuracy: 0.9592\n"
     ]
    },
    {
     "data": {
      "text/plain": [
       "0.9592000246047974"
      ]
     },
     "execution_count": 94,
     "metadata": {},
     "output_type": "execute_result"
    },
    {
     "data": {
      "application/pdf": "[encoded data removed]",
      "image/png": "[encoded data removed]",
      "text/plain": [
       "<Figure size 432x288 with 1 Axes>"
      ]
     },
     "metadata": {
      "needs_background": "light"
     },
     "output_type": "display_data"
    }
   ],
   "source": [
    "# Solution\n",
    "# For an example with random search, see the tutorial\n",
    "# Here, we search manually, following the following hunches:\n",
    "#   * Adding more nodes to the first hidden layer will improve accuracy. The input size is 784, so we should not make it too small\n",
    "#   * Adding a second hidden layer generally improves accuracy.\n",
    "#   * For larger models (more nodes), we need to regularize more (more dropout)\n",
    "\n",
    "batch_size = 4000 # Pretty high, but making this smaller doesn't seem to help much.\n",
    "epochs = 70\n",
    "\n",
    "# Create the model the model's topography.\n",
    "model = create_model(layer_1_units=800, layer_2_units=800, learning_rate=0.003, dropout_rate= 0.15)\n",
    "\n",
    "# Train the model on the normalized training set.\n",
    "history = train_model(model, x_train_normalized, y_train_encoded, \n",
    "                      validation_split, epochs, batch_size)\n",
    "\n",
    "# Plot a graph of the metric vs. epochs.\n",
    "list_of_metrics = ['accuracy','val_accuracy','loss','val_loss']\n",
    "plot_curve(history, list_of_metrics)\n",
    "\n",
    "# Evaluate against the test set.\n",
    "print(\"\\n Evaluation on the test set (accuracy):\")\n",
    "model.evaluate(x=x_test_normalized, y=y_test_encoded, batch_size=batch_size)[1]"
   ]
  },
  {
   "cell_type": "code",
   "execution_count": 73,
   "metadata": {},
   "outputs": [
    {
     "data": {
      "text/html": [
       "<span style=\"color:#4527A0\"><h1 style=\"font-size:18px\">Trial complete</h1></span>"
      ],
      "text/plain": [
       "<IPython.core.display.HTML object>"
      ]
     },
     "metadata": {},
     "output_type": "display_data"
    },
    {
     "data": {
      "text/html": [
       "<span style=\"color:#4527A0\"><h1 style=\"font-size:18px\">Trial summary</h1></span>"
      ],
      "text/plain": [
       "<IPython.core.display.HTML object>"
      ]
     },
     "metadata": {},
     "output_type": "display_data"
    },
    {
     "data": {
      "text/html": [
       "<span style=\"color:cyan\"> |-Trial ID: 4fa656d445a94170230aad6043519357</span>"
      ],
      "text/plain": [
       "<IPython.core.display.HTML object>"
      ]
     },
     "metadata": {},
     "output_type": "display_data"
    },
    {
     "data": {
      "text/html": [
       "<span style=\"color:cyan\"> |-Score: 0.1431666612625122</span>"
      ],
      "text/plain": [
       "<IPython.core.display.HTML object>"
      ]
     },
     "metadata": {},
     "output_type": "display_data"
    },
    {
     "data": {
      "text/html": [
       "<span style=\"color:cyan\"> |-Best step: 0</span>"
      ],
      "text/plain": [
       "<IPython.core.display.HTML object>"
      ]
     },
     "metadata": {},
     "output_type": "display_data"
    },
    {
     "data": {
      "text/html": [
       "<span style=\"color:#7E57C2\"><h2 style=\"font-size:16px\">Hyperparameters:</h2></span>"
      ],
      "text/plain": [
       "<IPython.core.display.HTML object>"
      ]
     },
     "metadata": {},
     "output_type": "display_data"
    },
    {
     "data": {
      "text/html": [
       "<span style=\"color:cyan\"> |-dropout: 0.2</span>"
      ],
      "text/plain": [
       "<IPython.core.display.HTML object>"
      ]
     },
     "metadata": {},
     "output_type": "display_data"
    },
    {
     "data": {
      "text/html": [
       "<span style=\"color:blue\"> |-units: 96</span>"
      ],
      "text/plain": [
       "<IPython.core.display.HTML object>"
      ]
     },
     "metadata": {},
     "output_type": "display_data"
    },
    {
     "data": {
      "text/html": [
       "<span style=\"color:cyan\"> |-units2: 96</span>"
      ],
      "text/plain": [
       "<IPython.core.display.HTML object>"
      ]
     },
     "metadata": {},
     "output_type": "display_data"
    },
    {
     "data": {
      "text/html": [
       "<span style=\"color:#4527A0\"><h1 style=\"font-size:18px\">Trial complete</h1></span>"
      ],
      "text/plain": [
       "<IPython.core.display.HTML object>"
      ]
     },
     "metadata": {},
     "output_type": "display_data"
    },
    {
     "data": {
      "text/html": [
       "<span style=\"color:#4527A0\"><h1 style=\"font-size:18px\">Trial summary</h1></span>"
      ],
      "text/plain": [
       "<IPython.core.display.HTML object>"
      ]
     },
     "metadata": {},
     "output_type": "display_data"
    },
    {
     "data": {
      "text/html": [
       "<span style=\"color:cyan\"> |-Trial ID: 5c7c2e3a8f899055157b86b6162fc98b</span>"
      ],
      "text/plain": [
       "<IPython.core.display.HTML object>"
      ]
     },
     "metadata": {},
     "output_type": "display_data"
    },
    {
     "data": {
      "text/html": [
       "<span style=\"color:cyan\"> |-Score: 0.15216666460037231</span>"
      ],
      "text/plain": [
       "<IPython.core.display.HTML object>"
      ]
     },
     "metadata": {},
     "output_type": "display_data"
    },
    {
     "data": {
      "text/html": [
       "<span style=\"color:cyan\"> |-Best step: 0</span>"
      ],
      "text/plain": [
       "<IPython.core.display.HTML object>"
      ]
     },
     "metadata": {},
     "output_type": "display_data"
    },
    {
     "data": {
      "text/html": [
       "<span style=\"color:#7E57C2\"><h2 style=\"font-size:16px\">Hyperparameters:</h2></span>"
      ],
      "text/plain": [
       "<IPython.core.display.HTML object>"
      ]
     },
     "metadata": {},
     "output_type": "display_data"
    },
    {
     "data": {
      "text/html": [
       "<span style=\"color:cyan\"> |-dropout: 0.30000000000000004</span>"
      ],
      "text/plain": [
       "<IPython.core.display.HTML object>"
      ]
     },
     "metadata": {},
     "output_type": "display_data"
    },
    {
     "data": {
      "text/html": [
       "<span style=\"color:blue\"> |-units: 224</span>"
      ],
      "text/plain": [
       "<IPython.core.display.HTML object>"
      ]
     },
     "metadata": {},
     "output_type": "display_data"
    },
    {
     "data": {
      "text/html": [
       "<span style=\"color:cyan\"> |-units2: 64</span>"
      ],
      "text/plain": [
       "<IPython.core.display.HTML object>"
      ]
     },
     "metadata": {},
     "output_type": "display_data"
    },
    {
     "data": {
      "text/html": [
       "<span style=\"color:#4527A0\"><h1 style=\"font-size:18px\">Trial complete</h1></span>"
      ],
      "text/plain": [
       "<IPython.core.display.HTML object>"
      ]
     },
     "metadata": {},
     "output_type": "display_data"
    },
    {
     "data": {
      "text/html": [
       "<span style=\"color:#4527A0\"><h1 style=\"font-size:18px\">Trial summary</h1></span>"
      ],
      "text/plain": [
       "<IPython.core.display.HTML object>"
      ]
     },
     "metadata": {},
     "output_type": "display_data"
    },
    {
     "data": {
      "text/html": [
       "<span style=\"color:cyan\"> |-Trial ID: b67b6356a2f793a5e45489e7a71305b8</span>"
      ],
      "text/plain": [
       "<IPython.core.display.HTML object>"
      ]
     },
     "metadata": {},
     "output_type": "display_data"
    },
    {
     "data": {
      "text/html": [
       "<span style=\"color:cyan\"> |-Score: 0.3255000114440918</span>"
      ],
      "text/plain": [
       "<IPython.core.display.HTML object>"
      ]
     },
     "metadata": {},
     "output_type": "display_data"
    },
    {
     "data": {
      "text/html": [
       "<span style=\"color:cyan\"> |-Best step: 0</span>"
      ],
      "text/plain": [
       "<IPython.core.display.HTML object>"
      ]
     },
     "metadata": {},
     "output_type": "display_data"
    },
    {
     "data": {
      "text/html": [
       "<span style=\"color:#7E57C2\"><h2 style=\"font-size:16px\">Hyperparameters:</h2></span>"
      ],
      "text/plain": [
       "<IPython.core.display.HTML object>"
      ]
     },
     "metadata": {},
     "output_type": "display_data"
    },
    {
     "data": {
      "text/html": [
       "<span style=\"color:cyan\"> |-dropout: 0.2</span>"
      ],
      "text/plain": [
       "<IPython.core.display.HTML object>"
      ]
     },
     "metadata": {},
     "output_type": "display_data"
    },
    {
     "data": {
      "text/html": [
       "<span style=\"color:blue\"> |-units: 160</span>"
      ],
      "text/plain": [
       "<IPython.core.display.HTML object>"
      ]
     },
     "metadata": {},
     "output_type": "display_data"
    },
    {
     "data": {
      "text/html": [
       "<span style=\"color:cyan\"> |-units2: 160</span>"
      ],
      "text/plain": [
       "<IPython.core.display.HTML object>"
      ]
     },
     "metadata": {},
     "output_type": "display_data"
    },
    {
     "data": {
      "text/html": [
       "<span style=\"color:#4527A0\"><h1 style=\"font-size:18px\">Trial complete</h1></span>"
      ],
      "text/plain": [
       "<IPython.core.display.HTML object>"
      ]
     },
     "metadata": {},
     "output_type": "display_data"
    },
    {
     "data": {
      "text/html": [
       "<span style=\"color:#4527A0\"><h1 style=\"font-size:18px\">Trial summary</h1></span>"
      ],
      "text/plain": [
       "<IPython.core.display.HTML object>"
      ]
     },
     "metadata": {},
     "output_type": "display_data"
    },
    {
     "data": {
      "text/html": [
       "<span style=\"color:cyan\"> |-Trial ID: 7a46785f8cc83f50c39e678798c46a5b</span>"
      ],
      "text/plain": [
       "<IPython.core.display.HTML object>"
      ]
     },
     "metadata": {},
     "output_type": "display_data"
    },
    {
     "data": {
      "text/html": [
       "<span style=\"color:cyan\"> |-Score: 0.11116666346788406</span>"
      ],
      "text/plain": [
       "<IPython.core.display.HTML object>"
      ]
     },
     "metadata": {},
     "output_type": "display_data"
    },
    {
     "data": {
      "text/html": [
       "<span style=\"color:cyan\"> |-Best step: 0</span>"
      ],
      "text/plain": [
       "<IPython.core.display.HTML object>"
      ]
     },
     "metadata": {},
     "output_type": "display_data"
    },
    {
     "data": {
      "text/html": [
       "<span style=\"color:#7E57C2\"><h2 style=\"font-size:16px\">Hyperparameters:</h2></span>"
      ],
      "text/plain": [
       "<IPython.core.display.HTML object>"
      ]
     },
     "metadata": {},
     "output_type": "display_data"
    },
    {
     "data": {
      "text/html": [
       "<span style=\"color:cyan\"> |-dropout: 0.4</span>"
      ],
      "text/plain": [
       "<IPython.core.display.HTML object>"
      ]
     },
     "metadata": {},
     "output_type": "display_data"
    },
    {
     "data": {
      "text/html": [
       "<span style=\"color:blue\"> |-units: 256</span>"
      ],
      "text/plain": [
       "<IPython.core.display.HTML object>"
      ]
     },
     "metadata": {},
     "output_type": "display_data"
    },
    {
     "data": {
      "text/html": [
       "<span style=\"color:cyan\"> |-units2: 64</span>"
      ],
      "text/plain": [
       "<IPython.core.display.HTML object>"
      ]
     },
     "metadata": {},
     "output_type": "display_data"
    },
    {
     "data": {
      "text/html": [
       "<span style=\"color:#4527A0\"><h1 style=\"font-size:18px\">Trial complete</h1></span>"
      ],
      "text/plain": [
       "<IPython.core.display.HTML object>"
      ]
     },
     "metadata": {},
     "output_type": "display_data"
    },
    {
     "data": {
      "text/html": [
       "<span style=\"color:#4527A0\"><h1 style=\"font-size:18px\">Trial summary</h1></span>"
      ],
      "text/plain": [
       "<IPython.core.display.HTML object>"
      ]
     },
     "metadata": {},
     "output_type": "display_data"
    },
    {
     "data": {
      "text/html": [
       "<span style=\"color:cyan\"> |-Trial ID: e1996490a922be07817b217efe5b8e8f</span>"
      ],
      "text/plain": [
       "<IPython.core.display.HTML object>"
      ]
     },
     "metadata": {},
     "output_type": "display_data"
    },
    {
     "data": {
      "text/html": [
       "<span style=\"color:cyan\"> |-Score: 0.28949999809265137</span>"
      ],
      "text/plain": [
       "<IPython.core.display.HTML object>"
      ]
     },
     "metadata": {},
     "output_type": "display_data"
    },
    {
     "data": {
      "text/html": [
       "<span style=\"color:cyan\"> |-Best step: 0</span>"
      ],
      "text/plain": [
       "<IPython.core.display.HTML object>"
      ]
     },
     "metadata": {},
     "output_type": "display_data"
    },
    {
     "data": {
      "text/html": [
       "<span style=\"color:#7E57C2\"><h2 style=\"font-size:16px\">Hyperparameters:</h2></span>"
      ],
      "text/plain": [
       "<IPython.core.display.HTML object>"
      ]
     },
     "metadata": {},
     "output_type": "display_data"
    },
    {
     "data": {
      "text/html": [
       "<span style=\"color:cyan\"> |-dropout: 0.4</span>"
      ],
      "text/plain": [
       "<IPython.core.display.HTML object>"
      ]
     },
     "metadata": {},
     "output_type": "display_data"
    },
    {
     "data": {
      "text/html": [
       "<span style=\"color:blue\"> |-units: 96</span>"
      ],
      "text/plain": [
       "<IPython.core.display.HTML object>"
      ]
     },
     "metadata": {},
     "output_type": "display_data"
    },
    {
     "data": {
      "text/html": [
       "<span style=\"color:cyan\"> |-units2: 128</span>"
      ],
      "text/plain": [
       "<IPython.core.display.HTML object>"
      ]
     },
     "metadata": {},
     "output_type": "display_data"
    },
    {
     "name": "stdout",
     "output_type": "stream",
     "text": [
      "INFO:tensorflow:Oracle triggered exit\n"
     ]
    }
   ],
   "source": [
    "# Solution with tuning. Takes a long time, and the best found solution isn't better.\n",
    "# The maximum number of nodes was set to 265. Setting it higher may yield better result.\n",
    "\n",
    "from tensorflow.keras import optimizers\n",
    "import kerastuner as kt\n",
    "\n",
    "\n",
    "def build_model(hp):\n",
    "    model = keras.models.Sequential()\n",
    "\n",
    "    # Tune the number of units in the dense layers\n",
    "    hp_units = hp.Int('units', min_value = 32, max_value = 265, step = 32)\n",
    "    hp_units2 = hp.Int('units2', min_value = 32, max_value = 265, step = 32)\n",
    "    hp_dropout = hp.Float('dropout', min_value = 0.1, max_value = 0.5, step = 0.1)\n",
    "\n",
    "    model.add(keras.layers.Flatten(input_shape=(28, 28)))\n",
    "    model.add(keras.layers.Dense(units = hp_units, activation = 'relu'))\n",
    "    model.add(keras.layers.Dropout(rate= hp_dropout))\n",
    "    model.add(keras.layers.Dense(units = hp_units2, activation = 'relu'))\n",
    "    model.add(keras.layers.Dense(10))\n",
    "\n",
    "    model.compile(optimizer = 'rmsprop',\n",
    "                  loss = 'categorical_crossentropy',\n",
    "                  metrics = ['accuracy'])\n",
    "    return model\n",
    "\n",
    "tuner = kt.RandomSearch(build_model, max_trials=5, objective = 'val_accuracy', project_name='mnist_tuning')\n",
    "\n",
    "X_train, x_val, y_train, y_val = train_test_split(x_train_normalized, y_train_encoded, test_size=0.1, shuffle=True, stratify=y_train_encoded, random_state=0)\n",
    "tuner.search(x=X_train, y=y_train, epochs = 50, validation_data = (x_val, y_val), verbose=0)\n",
    "\n",
    "# Get the optimal hyperparameters\n",
    "best_hps = tuner.get_best_hyperparameters(num_trials = 1)[0]"
   ]
  },
  {
   "cell_type": "code",
   "execution_count": null,
   "metadata": {},
   "outputs": [],
   "source": []
  }
 ],
 "metadata": {
  "colab": {
   "collapsed_sections": [],
   "name": "Copy of Multi-class classification with MNIST.ipynb",
   "private_outputs": true,
   "provenance": []
  },
  "kernelspec": {
   "display_name": "Python 3",
   "language": "python",
   "name": "python3"
  },
  "language_info": {
   "codemirror_mode": {
    "name": "ipython",
    "version": 3
   },
   "file_extension": ".py",
   "mimetype": "text/x-python",
   "name": "python",
   "nbconvert_exporter": "python",
   "pygments_lexer": "ipython3",
   "version": "3.7.3"
  }
 },
 "nbformat": 4,
 "nbformat_minor": 4
}
